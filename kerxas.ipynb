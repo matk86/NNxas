{
 "cells": [
  {
   "cell_type": "code",
   "execution_count": 1,
   "metadata": {
    "collapsed": false
   },
   "outputs": [
    {
     "name": "stderr",
     "output_type": "stream",
     "text": [
      "Using Theano backend.\n"
     ]
    }
   ],
   "source": [
    "from keras.models import Sequential\n",
    "from keras.layers import Dense, Activation\n",
    "\n",
    "# simple: input_dim = 100, output_dim = 4\n",
    "# snap: input_dim = 102, output_dim = 31\n",
    "\n",
    "def get_seq_model(input_dim, output_dim, nlayers, nunits, activation=\"elu\"):\n",
    "    model = Sequential()\n",
    "\n",
    "    model.add(Dense(units=nunits, input_dim=input_dim))\n",
    "    model.add(Activation(activation))\n",
    "    \n",
    "    for i in range(nlayers):\n",
    "        model.add(Dense(units=nunits))\n",
    "        model.add(Activation(activation))\n",
    "\n",
    "    model.add(Dense(units=output_dim))\n",
    "    \n",
    "    return model"
   ]
  },
  {
   "cell_type": "code",
   "execution_count": 2,
   "metadata": {
    "collapsed": true
   },
   "outputs": [],
   "source": [
    "model = get_seq_model(100, 4, 2, 500)"
   ]
  },
  {
   "cell_type": "code",
   "execution_count": 3,
   "metadata": {
    "collapsed": false
   },
   "outputs": [],
   "source": [
    "from keras import optimizers\n",
    "\n",
    "#optimizer = optimizers.Adam(lr=0.00001, beta_1=0.95, beta_2=0.999, epsilon=1e-08, decay=0.0)\n",
    "optimizer = optimizers.SGD(lr=0.0001, decay=1e-6, momentum=0.9, nesterov=True)\n",
    "model.compile(loss='mean_squared_error', optimizer=optimizer, metrics=[\"mse\",'accuracy'])"
   ]
  },
  {
   "cell_type": "code",
   "execution_count": 4,
   "metadata": {
    "collapsed": true
   },
   "outputs": [],
   "source": [
    "import json\n",
    "import numpy as np\n",
    "\n",
    "\n",
    "def load_xas_data(data_file):\n",
    "    X, Y, xas_ids, problem_ids = [], [], [], []\n",
    "    \n",
    "    with open(data_file) as f:\n",
    "        all_data = json.load(f)\n",
    "    for d in all_data:\n",
    "        if d[0][-1] < 0:\n",
    "            problem_ids.append(d[2])\n",
    "            continue\n",
    "        X.append(d[1]) # spectrum\n",
    "        Y.append(d[0]) # site\n",
    "        xas_ids.append(d[2]) # xas id\n",
    "        \n",
    "    return np.array(X), np.array(Y), xas_ids, problem_ids"
   ]
  },
  {
   "cell_type": "code",
   "execution_count": 5,
   "metadata": {
    "collapsed": false
   },
   "outputs": [
    {
     "name": "stdout",
     "output_type": "stream",
     "text": [
      "((113101, 100), (113101, 4))\n"
     ]
    }
   ],
   "source": [
    "data_file = \"/global/homes/k/kmathew/NNxas/all_data_processed_120000.json\"\n",
    "X, Y, xas_ids, problem_ids = load_xas_data(data_file)\n",
    "\n",
    "print(X.shape, Y.shape)\n",
    "\n",
    "def get_xas_data(num_training, num_validation, num_test, return_mask=False):\n",
    "        \n",
    "    # sample the data\n",
    "    n_total = num_training + num_validation + num_test\n",
    "    n_tv = num_training + num_validation\n",
    "    \n",
    "    test_mask = np.zeros(n_total, dtype=bool)\n",
    "    test_choice = np.random.choice(n_total, num_test, replace=False)\n",
    "    test_mask[test_choice] = True\n",
    "    \n",
    "    X_test = X[test_mask]\n",
    "    Y_test = Y[test_mask]\n",
    "    \n",
    "    X_tv = X[~test_mask]\n",
    "    Y_tv = Y[~test_mask]\n",
    "    \n",
    "    val_mask = np.zeros(n_tv, dtype=bool)\n",
    "    val_choice = np.random.choice(n_tv, num_validation, replace=False)\n",
    "    val_mask[val_choice] = True\n",
    "    \n",
    "    X_val = X_tv[val_mask]\n",
    "    Y_val = Y_tv[val_mask]\n",
    "    \n",
    "    X_train = X_tv[~val_mask]\n",
    "    Y_train = Y_tv[~val_mask]\n",
    "\n",
    "    # Normalize the data: subtract the mean image\n",
    "    #mean_image = np.mean(X_train, axis=0)\n",
    "    #X_train -= mean_image\n",
    "    #X_val -= mean_image\n",
    "    #X_test -= mean_image\n",
    "\n",
    "    # Reshape data to rows\n",
    "    X_train = X_train.reshape(num_training, -1)\n",
    "    X_val = X_val.reshape(num_validation, -1)\n",
    "    X_test = X_test.reshape(num_test, -1)\n",
    "\n",
    "    if return_mask:\n",
    "        return X_train, Y_train, X_val, Y_val, X_test, Y_test, test_mask, val_mask\n",
    "        \n",
    "    return X_train, Y_train, X_val, Y_val, X_test, Y_test"
   ]
  },
  {
   "cell_type": "code",
   "execution_count": 6,
   "metadata": {
    "collapsed": false
   },
   "outputs": [
    {
     "name": "stdout",
     "output_type": "stream",
     "text": [
      "1793\n"
     ]
    }
   ],
   "source": [
    "print(len(problem_ids))"
   ]
  },
  {
   "cell_type": "code",
   "execution_count": 7,
   "metadata": {
    "collapsed": false
   },
   "outputs": [],
   "source": [
    "num_total = X.shape[0]\n",
    "validation_precentage = 10\n",
    "test_precentage = 10\n",
    "num_epochs = 50"
   ]
  },
  {
   "cell_type": "code",
   "execution_count": 8,
   "metadata": {
    "collapsed": false
   },
   "outputs": [
    {
     "name": "stdout",
     "output_type": "stream",
     "text": [
      "('Train data shape: ', (90481, 100))\n",
      "('Train labels shape: ', (90481, 4))\n",
      "('Validation data shape: ', (11310, 100))\n",
      "('Validation labels shape: ', (11310, 4))\n",
      "('Test data shape: ', (11310, 100))\n",
      "('Test labels shape: ', (11310, 4))\n"
     ]
    }
   ],
   "source": [
    "num_test = int(num_total * test_precentage /100.)\n",
    "num_validation = int(num_total * validation_precentage /100.)\n",
    "num_training = num_total - num_validation - num_test\n",
    "\n",
    "X_train, Y_train, X_val, Y_val, X_test, Y_test, test_mask, val_mask = get_xas_data(num_training, num_validation, num_test, return_mask=True)\n",
    "\n",
    "print('Train data shape: ', X_train.shape)\n",
    "print('Train labels shape: ', Y_train.shape)\n",
    "print('Validation data shape: ', X_val.shape)\n",
    "print('Validation labels shape: ', Y_val.shape)\n",
    "print('Test data shape: ', X_test.shape)\n",
    "print('Test labels shape: ', Y_test.shape)"
   ]
  },
  {
   "cell_type": "code",
   "execution_count": 9,
   "metadata": {
    "collapsed": false
   },
   "outputs": [
    {
     "data": {
      "text/plain": [
       "array([ 8.        , -2.        ,  3.        ,  0.72309418])"
      ]
     },
     "execution_count": 9,
     "metadata": {},
     "output_type": "execute_result"
    }
   ],
   "source": [
    "# print random sample's Y\n",
    "Y_train[np.random.choice(num_training)]"
   ]
  },
  {
   "cell_type": "code",
   "execution_count": 10,
   "metadata": {
    "collapsed": false
   },
   "outputs": [],
   "source": [
    "test_xas_ids = np.array(xas_ids)[test_mask]"
   ]
  },
  {
   "cell_type": "code",
   "execution_count": 11,
   "metadata": {
    "collapsed": false
   },
   "outputs": [
    {
     "data": {
      "text/plain": [
       "u'mp-505633-6-XANES-K'"
      ]
     },
     "execution_count": 11,
     "metadata": {},
     "output_type": "execute_result"
    }
   ],
   "source": [
    "test_xas_ids[np.random.choice(num_test)]"
   ]
  },
  {
   "cell_type": "markdown",
   "metadata": {},
   "source": [
    "# Train"
   ]
  },
  {
   "cell_type": "code",
   "execution_count": 12,
   "metadata": {
    "collapsed": false
   },
   "outputs": [],
   "source": [
    "history = model.fit(X_train, Y_train, epochs=num_epochs, verbose=0, \n",
    "                    validation_data=(X_val, Y_val), batch_size=32)\n",
    "#model.fit(X_train, Y_train, epochs=num_epochs, verbose=1, \n",
    "#                    validation_data=(X_val, Y_val), batch_size=32)"
   ]
  },
  {
   "cell_type": "code",
   "execution_count": 15,
   "metadata": {
    "collapsed": false
   },
   "outputs": [
    {
     "data": {
      "text/plain": [
       "[9.6794530173234765,\n",
       " 3.8929937837060131,\n",
       " 3.1745974531018875,\n",
       " 2.8074022308521456,\n",
       " 2.6429751398268766,\n",
       " 2.5182256541298145,\n",
       " 2.4412430792055857,\n",
       " 2.3660550358108856,\n",
       " 2.3067497197065587,\n",
       " 2.2744944410416532,\n",
       " 2.2284898657356136,\n",
       " 2.2001236363300269,\n",
       " 2.1575391527720549,\n",
       " 2.1323347026128867,\n",
       " 2.1055383907070255,\n",
       " 2.0867083388442267,\n",
       " 2.054877438840454,\n",
       " 2.0391693094984302,\n",
       " 2.0193312894620674,\n",
       " 1.9978162237754693,\n",
       " 1.9861530818952489,\n",
       " 1.9742800200159811,\n",
       " 1.9586015937446413,\n",
       " 1.9423956556254105,\n",
       " 1.9260563988912272,\n",
       " 1.9167377171827509,\n",
       " 1.9054567643190348,\n",
       " 1.8909028903188574,\n",
       " 1.880240913147891,\n",
       " 1.8746346775228884,\n",
       " 1.8616071767151732,\n",
       " 1.8508569535695436,\n",
       " 1.8434278563249136,\n",
       " 1.8384546994664948,\n",
       " 1.8228463467082774,\n",
       " 1.8187068078966946,\n",
       " 1.8099655626575908,\n",
       " 1.8044240265401874,\n",
       " 1.7932644615351889,\n",
       " 1.7875862585252031,\n",
       " 1.782038761807619,\n",
       " 1.7734547982242916,\n",
       " 1.7661756443340473,\n",
       " 1.7618784457265635,\n",
       " 1.7542480156669642,\n",
       " 1.749845852909153,\n",
       " 1.7399298646648433,\n",
       " 1.735191979380702,\n",
       " 1.7310911436756866,\n",
       " 1.722972148464555]"
      ]
     },
     "execution_count": 15,
     "metadata": {},
     "output_type": "execute_result"
    }
   ],
   "source": [
    "history.history[\"loss\"]"
   ]
  },
  {
   "cell_type": "markdown",
   "metadata": {},
   "source": [
    "# Test"
   ]
  },
  {
   "cell_type": "code",
   "execution_count": 16,
   "metadata": {
    "collapsed": false
   },
   "outputs": [
    {
     "name": "stdout",
     "output_type": "stream",
     "text": [
      "10848/11310 [===========================>..] - ETA: 0s\b\b\b\b\b\b\b\b\b\b\b\b\b\b\b\b\b\b\b\b\b\b\b\b\b\b\b\b\b\b\b\b\b\b\b\b\b\b\b\b\b\b\b\b\b\b\b\b\b\b\b\b\b\b\b\b\b\b\b\b\b\b\b\b\b\b\b\b\b\b\b\b\b\b\b\b\b\b\b\b\b\b\b\b\b\b\b\b\b\b\b\b\b\b\b\b\b\b\b\b\b\b\b\b\b\b\b\b\b\b\b\b\b\b\b\b\b\b\b\b\b\b\b\b\b\b\b\b\b\b\b\b\b\b\b\b\b\b\b\b\b\b\b\b\b\b\b\b\b\b\b\b\b\b\b\b\b\b\b\b\b\b\b\b\b\b\b\b\b\b\b\b\b\b\b\b\b\b\b\b\b\b\b\b\b\b\b\b\b\b\b\b\b\b\b\b\b\b\b\b\b\b\b\b\b\b\b\b\b\b\b\b\b\b\b\b\b\b\b\b\b\b\b\b\b\b\b\b\b\b\b\b\b\b\b\b\b\b\b\b\b\b\b\b\b\b\b\b\b\b\b\b\b\b\b\b\b\b\b\b\b\b\b\b\b\b\b\b\b\b\b\b\b\b\b\b\b\b\b\b\b\b\b\b\b\b\b\b\b\b\b\b\b\b\b\b\b\b\b\b\b\b\b\b\b\b\b\b\b\b\b\b\b\b\b\b\b\b\b\b\b\b\b\b\b\b\b\b\b\b\b\b\b\b\b\b\b\b\b\b\b\b\b\b\b\b\b\b\b\b\b\b\b\b\b\b\b\b\b\b\b\b\b\b\b\b\b\b\b\b\b\b\b\b\b\b\b\b\b\b\b\b\b\b\b\b\b\b\b\b\b\b\b\b\b\b\b\b\b\b\b\b\b\b\b\b\b\b\b\b\b\b\b\b\b\b\b\b\b\b\b\b\b\b\b\b\b\b\b\b\b\b\b\b\b\b\b\b\b\b\b\b\b\b\b\b\b\b\b\b\b\b\b\b\b\b\b\b\b\b\b\b\b\b\b\b\b\b\b\b\b\b\b\b\b\b\b\b\b\b\b\b\b\b\b\b\b\b\b\b\b\b\b\b\b\b\b\b\b\b\b\b\b\b\b\b\b\b\b\b\b\b\b\b\b\b\b\b\b\b\b\b\b\b\b\b\b\b\b\b\b\b\b\b\b\b\b\b\b\b\b\b\b\b\b\b\b\b\b\b\b\b\b\b\b\b\b\b\b\b\b\b\b\b\b\b\b\b\b\b\b\b\b\b\b\b\b\b\b\b\b\b\b\b\b\b\b\b\b\b\b\b\b\b\b\b\b\b\b\b\b\b\b\b\b\b\b\b\b\b\b\b\b\b\b\b\b\b\b\b\b\b\b\b\b\b\b\b\b\b\b\b\b\b\b\b\b\b\b\b\b\b\b\b\b\b\b\b\b\b\b\b\b\b\b\b\b\b\b\b\b\b\b\b\b\b\b\b\b\b\b\b\b\b\b\b\b\b\b\b\b\b\b\b\b\b\b\b\b\b\b\b\b\b\b\b\b\b\b\b\b\b\b\b\b\b\b\b\b\b\b\b\b\b\b\b\b\b\b\b\b\b\b\b\b\b\b\b\b\b\b\b\b\b\b\b\b\b\b\b\b\b\b\b\b\b\b\b\b\b\b\b\b\b\b\b\b\b\b\b\b\b\b\b\b\b\b\b\b\b\b\b\b\b\b\b\b\b\b\b\b\b\b\b\b\b\b\b\b\b\b\b\b\b\b\b\b\b\b\b\b\b\b\b\b\b\b\b\b\b\b\b\b\b\b\b\b\b\b\b\b\b\b\b\b\b\b\b\b\b\b\b\b\b\b\b\b\b\b\b\b\b\b\b\b\b\b\b\b\b\b\b\b\b\b\b\b\b\b\b\b\b\b\b\b\b\b\b\b\b\b\b\b\b\b\b\b\b\b\b\b\b\b\b\b\b\b\b\b\b\b\b\b\b\b\b\b\b\b\b\b\b\b\b\b\b\b\b\b\b\b\b\b\b\b\b\b\b('Test loss:', 1.8544317812122779)\n",
      "('Test accuracy:', 1.8544317812122779)\n"
     ]
    }
   ],
   "source": [
    "score = model.evaluate(X_test, Y_test, verbose=1)\n",
    "print('Test loss:', score[0])\n",
    "print('Test accuracy:', score[1])"
   ]
  },
  {
   "cell_type": "markdown",
   "metadata": {},
   "source": [
    "# Samples"
   ]
  },
  {
   "cell_type": "code",
   "execution_count": 17,
   "metadata": {
    "collapsed": false
   },
   "outputs": [
    {
     "name": "stdout",
     "output_type": "stream",
     "text": [
      "[[ 28.03184319   1.08210742   5.40386534   1.22905898]]\n",
      "[[ 28.           2.           4.           0.94442041]]\n"
     ]
    }
   ],
   "source": [
    "nchoice = np.random.choice(num_test, 1)\n",
    "\n",
    "# predictions\n",
    "sample_predictions = model.predict(X_test[nchoice])\n",
    "print(sample_predictions)\n",
    "#print(np.round(sample_predictions))\n",
    "\n",
    "# original\n",
    "print(Y_test[nchoice])"
   ]
  },
  {
   "cell_type": "code",
   "execution_count": 16,
   "metadata": {
    "collapsed": false
   },
   "outputs": [
    {
     "data": {
      "text/plain": [
       "array([u'mp-11026-28-XANES-K'], \n",
       "      dtype='<U22')"
      ]
     },
     "execution_count": 16,
     "metadata": {},
     "output_type": "execute_result"
    }
   ],
   "source": [
    "test_xas_ids[nchoice]"
   ]
  },
  {
   "cell_type": "code",
   "execution_count": null,
   "metadata": {
    "collapsed": true
   },
   "outputs": [],
   "source": [
    "# check problem_ids for negative average bond length"
   ]
  },
  {
   "cell_type": "code",
   "execution_count": null,
   "metadata": {
    "collapsed": true
   },
   "outputs": [],
   "source": []
  },
  {
   "cell_type": "code",
   "execution_count": null,
   "metadata": {
    "collapsed": true
   },
   "outputs": [],
   "source": []
  },
  {
   "cell_type": "markdown",
   "metadata": {},
   "source": [
    "Tensormol: 3 hidden layers, 1000 neirons, with relu\n",
    "adam optimizer, minibatch method with l2 loss minimization, learning rate=0.00001, learning momentum=0.95\n",
    "check: TFMolInstance.py\n",
    "\n",
    "inverse problem: given spectrum, predict structure\n",
    "define structure(descriptor): [spacegroup, formula(or just absorbing atom symbol), a, b, c]\n",
    "                  --> 225 len vec + 110 len vec + 3"
   ]
  },
  {
   "cell_type": "markdown",
   "metadata": {
    "collapsed": true
   },
   "source": [
    "keras.preprocessing.sequence.pad_sequences(sequences, maxlen=None, dtype='int32',\n",
    "    padding='pre', truncating='pre', value=0.)\n",
    "\n",
    "Transform a list of num_samples sequences (lists of scalars) into a 2D Numpy array of shape (num_samples, num_timesteps). num_timesteps is either the maxlen argument if provided, or the length of the longest sequence otherwise. Sequences that are shorter than num_timesteps are padded with value at the end. Sequences longer than num_timesteps are truncated so that it fits the desired length. Position where padding or truncation happens is determined by padding or truncating, respectively.\n",
    "\n",
    "#Generate dummy data\n",
    "import numpy as np\n",
    "data = np.random.random((1000, 100))\n",
    "labels = np.random.randint(2, size=(1000, 1))\n",
    "\n",
    "#Train the model, iterating on the data in batches of 32 samples\n",
    "model.fit(data, labels, epochs=10, batch_size=32)"
   ]
  },
  {
   "cell_type": "code",
   "execution_count": null,
   "metadata": {
    "collapsed": true
   },
   "outputs": [],
   "source": []
  },
  {
   "cell_type": "markdown",
   "metadata": {},
   "source": [
    "#Chi\n",
    "KerasClassifier\n",
    "KFold\n",
    "cross_val_score\n",
    "\n",
    "def basic_mlp():\n",
    "    lr = 5e-3\n",
    "    input_dim = 55\n",
    "    layer_sizes = [100, 50, 55]\n",
    "    model = Sequential()\n",
    "    model.add(Dense(layer_sizes[0], input_dim=input_dim, activation='elu'))\n",
    "    for i in range(1, len(layer_sizes)):\n",
    "        if i == len(layer_sizes)-1:\n",
    "            act = 'softmax'\n",
    "        else:\n",
    "            act = 'elu'\n",
    "        model.add(Dense(layer_sizes[i], activation=act))\n",
    "    model.compile(loss='categorical_crossentropy', optimizer= Adam(lr=lr), metrics=['accuracy'])\n",
    "    return model"
   ]
  },
  {
   "cell_type": "code",
   "execution_count": null,
   "metadata": {
    "collapsed": true
   },
   "outputs": [],
   "source": []
  }
 ],
 "metadata": {
  "kernelspec": {
   "display_name": "deeplearning",
   "language": "python",
   "name": "deeplearning"
  },
  "language_info": {
   "codemirror_mode": {
    "name": "ipython",
    "version": 2
   },
   "file_extension": ".py",
   "mimetype": "text/x-python",
   "name": "python",
   "nbconvert_exporter": "python",
   "pygments_lexer": "ipython2",
   "version": "2.7.12"
  }
 },
 "nbformat": 4,
 "nbformat_minor": 2
}
