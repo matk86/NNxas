{
 "cells": [
  {
   "cell_type": "code",
   "execution_count": 1,
   "metadata": {
    "collapsed": true
   },
   "outputs": [],
   "source": [
    "import json\n",
    "from collections import OrderedDict\n",
    "\n",
    "import numpy as np\n",
    "\n",
    "from pymatgen.util.testing import PymatgenTest\n",
    "from pymatgen.analysis.defects import ValenceIonicRadiusEvaluator"
   ]
  },
  {
   "cell_type": "code",
   "execution_count": 2,
   "metadata": {},
   "outputs": [
    {
     "data": {
      "text/plain": [
       "Structure Summary\n",
       "Lattice\n",
       "    abc : 5.1375444305168338 5.4837876298260859 5.1375444008897855\n",
       " angles : 62.067550317265585 119.99999828294702 117.93245659283009\n",
       " volume : 105.4300472549721\n",
       "      A : -1.6529157999999999 -4.2413729900000003 2.3818033700000001\n",
       "      B : 1.62300387 4.2209269200000001 3.10186414\n",
       "      C : -2.8991580899999998 4.2413729900000003 0.0\n",
       "PeriodicSite: Fe (-2.3609, 1.4978, 1.0287) [0.3534, 0.0603, 0.6466]\n",
       "PeriodicSite: Fe (-2.0028, 4.8541, 1.7131) [0.1466, 0.4397, 0.8534]\n",
       "PeriodicSite: Fe (-0.5682, 2.7232, 4.4550) [0.6466, 0.9397, 0.3534]\n",
       "PeriodicSite: Fe (-0.9263, -0.6332, 3.7705) [0.8534, 0.5603, 0.1466]\n",
       "PeriodicSite: O (0.1483, 1.0450, 3.6442) [0.5533, 0.7500, 0.0533]\n",
       "PeriodicSite: O (-0.4911, 4.0001, 2.9218) [0.2500, 0.7500, 0.4467]\n",
       "PeriodicSite: O (-0.4070, 1.8898, 0.9023) [0.0532, 0.2500, 0.2500]\n",
       "PeriodicSite: O (-2.4379, 0.2207, 2.5618) [0.7500, 0.2500, 0.5532]\n",
       "PeriodicSite: O (-3.0775, 3.1759, 1.8396) [0.4468, 0.2500, 0.9468]\n",
       "PeriodicSite: O (-2.5220, 2.3313, 4.5813) [0.9467, 0.7500, 0.7500]"
      ]
     },
     "execution_count": 2,
     "metadata": {},
     "output_type": "execute_result"
    }
   ],
   "source": [
    "import warnings\n",
    "warnings.filterwarnings('ignore')\n",
    "\n",
    "from pymatgen.ext.matproj import MPRester\n",
    "\n",
    "a = MPRester()\n",
    "structure = a.get_structure_by_material_id(\"mp-24972\") #TiO2: mp-390, fe2o3: mp-24972\n",
    "#structure = PymatgenTest.get_structure(\"Si\")\n",
    "structure"
   ]
  },
  {
   "cell_type": "markdown",
   "metadata": {},
   "source": [
    "s = structure[4]\n",
    "print(s.coords.tolist())\n",
    "print(s.species_and_occu.as_dict())\n",
    "print(s.as_dict()[\"properties\"])"
   ]
  },
  {
   "cell_type": "markdown",
   "metadata": {},
   "source": [
    "# site descriptor"
   ]
  },
  {
   "cell_type": "code",
   "execution_count": 3,
   "metadata": {
    "collapsed": true
   },
   "outputs": [],
   "source": [
    "from matminer.descriptors.structure import StructuralAttribute\n",
    "\n",
    "def get_site_features(s, site_idx):\n",
    "    vire = ValenceIonicRadiusEvaluator(s)\n",
    "    if np.linalg.norm(s[site_idx].coords - vire.structure[site_idx].coords) > 1e-6:\n",
    "        raise RuntimeError(\"Mismatch between input structure and VIRE structure.\")\n",
    "    sa = StructuralAttribute(vire.structure)\n",
    "    nn = sa.get_neighbors_of_site_with_index(site_idx)\n",
    "\n",
    "    rn = vire.radii[vire.structure[site_idx].species_string]\n",
    "    bond_lengths = [s[site_idx].distance_from_point(x.coords) * (vire.radii[x.species_string]/(rn+vire.radii[x.species_string])) for x in nn]\n",
    "    #bond_lengths = [s[site_idx].distance_from_point(x.coords) for x in nn]\n",
    "    # Z, valence, coordination number, weighted avg bond length\n",
    "    return vire.structure[site_idx].specie.number, vire.valences[vire.structure[site_idx].species_string], len(nn),  np.mean(bond_lengths) #, np.std(bond_lengths)"
   ]
  },
  {
   "cell_type": "code",
   "execution_count": 4,
   "metadata": {},
   "outputs": [
    {
     "name": "stdout",
     "output_type": "stream",
     "text": [
      "(26, 3, 6, 1.3084618326540276)\n",
      "(26, 3, 6, 1.3084618326540283)\n",
      "(26, 3, 6, 1.3084138707805273)\n",
      "(26, 3, 6, 1.308413870780528)\n",
      "(8, -2, 4, 0.74768356004841496)\n",
      "(8, -2, 4, 0.74768354088568634)\n",
      "(8, -2, 4, 0.74767399792154865)\n",
      "(8, -2, 4, 0.74767397162488791)\n",
      "(8, -2, 4, 0.74767399679506086)\n",
      "(8, -2, 4, 0.74768356718363971)\n"
     ]
    }
   ],
   "source": [
    "for j,s in enumerate(structure):\n",
    "    f = get_site_features(structure, j)\n",
    "    print(f)"
   ]
  },
  {
   "cell_type": "code",
   "execution_count": 7,
   "metadata": {
    "collapsed": true
   },
   "outputs": [],
   "source": [
    "# vorocf = VoronoiCoordFinder(structure)\n",
    "# neighsites = vorocf.get_coordinated_sites(n, tol, target_spec)\n"
   ]
  },
  {
   "cell_type": "markdown",
   "metadata": {},
   "source": [
    "# Fetch and Process data"
   ]
  },
  {
   "cell_type": "code",
   "execution_count": 1,
   "metadata": {
    "collapsed": true
   },
   "outputs": [],
   "source": [
    "from pymongo import MongoClient\n",
    "\n",
    "conn = MongoClient(\"localhost\", port=57003)\n",
    "db = conn[\"feff_km_share\"]\n",
    "db.authenticate(\"anon\", \"anon\")\n",
    "xas = db[\"xas\"]"
   ]
  },
  {
   "cell_type": "code",
   "execution_count": 18,
   "metadata": {
    "collapsed": true
   },
   "outputs": [],
   "source": [
    "xas_ids = [u'mp-505011-28-XANES-K', u'mp-27845-17-XANES-K',\n",
    "      u'mp-25537-1-XANES-K', u'mp-510006-20-XANES-K',\n",
    "             u'mp-24279-40-XANES-K']\n",
    "xas_ids = ['11028-2', '10729-2', '1072-10', '10685-2', '10734-1', '10670-1', \n",
    "           '1069-0', '1072-17', '1074-38', '1074-18', '11026-5', '1074-16',\n",
    "           '10754-4', '10651-1', '1074-50', '1074-23', '10670-5', '10694-3', \n",
    "           '1074-27', '10674-0', '11025-19', '11031-0', '10754-2', '11026-3']\n",
    "#xas_ids = [u'mp-28993-0-XANES-K', u'mp-10965-7-XANES-K', \n",
    "#           u'mp-38284-12-XANES-K', u'mp-31557-50-XANES-K', \n",
    "#           u'mp-11000-16-XANES-K']"
   ]
  },
  {
   "cell_type": "code",
   "execution_count": 19,
   "metadata": {},
   "outputs": [
    {
     "name": "stdout",
     "output_type": "stream",
     "text": [
      "11028-2\n",
      "K\n",
      "10729-2\n",
      "K\n",
      "1072-10\n",
      "K\n",
      "10685-2\n",
      "K\n",
      "10734-1\n",
      "K\n",
      "10670-1\n",
      "K\n",
      "1069-0\n",
      "K\n",
      "1072-17\n",
      "K\n",
      "1074-38\n",
      "K\n",
      "1074-18\n",
      "K\n",
      "11026-5\n",
      "K\n",
      "1074-16\n",
      "K\n",
      "10754-4\n",
      "K\n",
      "10651-1\n",
      "K\n",
      "1074-50\n",
      "K\n",
      "1074-23\n",
      "K\n",
      "10670-5\n",
      "K\n",
      "10694-3\n",
      "K\n",
      "1074-27\n",
      "K\n",
      "10674-0\n",
      "K\n",
      "11025-19\n",
      "K\n",
      "11031-0\n",
      "K\n",
      "10754-2\n",
      "K\n",
      "11026-3\n",
      "K\n"
     ]
    }
   ],
   "source": [
    "spectra = []\n",
    "for xas_id in xas_ids:\n",
    "    for d in xas.find({\"xas_id\": \"mp-{}-XANES-K\".format(xas_id)}):\n",
    "        print(xas_id)\n",
    "        spectra.append(d[\"spectrum\"])\n",
    "        print(d[\"edge\"])"
   ]
  },
  {
   "cell_type": "markdown",
   "metadata": {},
   "source": [
    "xas_ids = []\n",
    "spectra = []\n",
    "\n",
    "i, N = 0, 49\n",
    "for d in xas.find():\n",
    "    xas_ids.append(d['xas_id'])\n",
    "    spectra.append(d[\"spectrum\"])\n",
    "    i += 1\n",
    "    print(i)\n",
    "    if i>=N:\n",
    "        break"
   ]
  },
  {
   "cell_type": "code",
   "execution_count": 20,
   "metadata": {},
   "outputs": [
    {
     "data": {
      "text/plain": [
       "24"
      ]
     },
     "execution_count": 20,
     "metadata": {},
     "output_type": "execute_result"
    }
   ],
   "source": [
    "len(xas_ids)"
   ]
  },
  {
   "cell_type": "code",
   "execution_count": 21,
   "metadata": {
    "collapsed": true
   },
   "outputs": [],
   "source": [
    "%matplotlib inline\n",
    "\n",
    "import matplotlib.pyplot as plt \n",
    "import matplotlib.gridspec as gridspec\n",
    "import numpy as np"
   ]
  },
  {
   "cell_type": "code",
   "execution_count": 22,
   "metadata": {},
   "outputs": [
    {
     "data": {
      "image/png": "[encoded data removed]",
      "text/plain": [
       "<matplotlib.figure.Figure at 0x7fec80a11358>"
      ]
     },
     "metadata": {},
     "output_type": "display_data"
    }
   ],
   "source": [
    "from itertools import cycle\n",
    "plt.figure(figsize=(12, 12))\n",
    "\n",
    "# gridspec inside gridspec                                                                     \n",
    "gs = gridspec.GridSpec(4,6, wspace=0.0, hspace=0.0)\n",
    "colors = cycle([\"r\", \"b\", \"g\", \"k\", \"c\"])\n",
    "\n",
    "for i in range(len(xas_ids)):\n",
    "    s = np.array(spectra[i])\n",
    "    ax = plt.subplot(gs[i])\n",
    "    ax.plot(s[:,0], s[:,3], next(colors), label=xas_ids[i].split(\"-XANES-K\")[0])\n",
    "    ax.set_xticks([])\n",
    "    ax.set_yticks([])\n",
    "    ax.legend(loc=\"best\")\n",
    "#plt.legend)\n",
    "plt.savefig(\"K_xanes_sample.pdf\")\n",
    "plt.show() \n",
    "#11028-2, 10729-2, 1072-10, 10685-2, 10734-1, 10670-1, 1069-0, 1072-17,1074-38, 1074-18, 11026-5, 1074-16\n",
    "#10754-4, 10651-1, 1074-50, 1074-23, 10670-5, 10694-3, 1074-27, 10674-0, 11025-19, 11031-0, 10754-2, 11026-3\n"
   ]
  },
  {
   "cell_type": "code",
   "execution_count": null,
   "metadata": {
    "collapsed": true
   },
   "outputs": [],
   "source": []
  },
  {
   "cell_type": "code",
   "execution_count": null,
   "metadata": {
    "collapsed": true
   },
   "outputs": [],
   "source": []
  },
  {
   "cell_type": "markdown",
   "metadata": {},
   "source": [
    "# Process data with site properties"
   ]
  },
  {
   "cell_type": "code",
   "execution_count": 2,
   "metadata": {
    "collapsed": true
   },
   "outputs": [],
   "source": [
    "data_file = '/home/km/Google_Drive/LBL/FEFF/predict/all_data_120000.json'\n",
    "with open(data_file, \"r\") as f:\n",
    "    all_data = json.load(f)"
   ]
  },
  {
   "cell_type": "code",
   "execution_count": 3,
   "metadata": {},
   "outputs": [
    {
     "name": "stdout",
     "output_type": "stream",
     "text": [
      "(0,)\n"
     ]
    }
   ],
   "source": [
    "# [[site, chi], ...]\n",
    "all_data_processed = []\n",
    "for k, v in all_data.items():\n",
    "    tmp = np.array(v[\"spectrum\"])\n",
    "    # only mu\n",
    "    try:\n",
    "        chi = tmp[:,3]\n",
    "    except:\n",
    "        print(tmp.shape)\n",
    "        continue\n",
    "    all_data_processed.append([ list(v[\"site\"]), chi.tolist(), k])"
   ]
  },
  {
   "cell_type": "code",
   "execution_count": 4,
   "metadata": {
    "collapsed": true
   },
   "outputs": [],
   "source": [
    "processed_data_file = '/home/km/Google_Drive/LBL/FEFF/predict/all_data_processed_120000.json'\n",
    "with open(processed_data_file, \"w\") as f:\n",
    "    json.dump(all_data_processed, f)"
   ]
  },
  {
   "cell_type": "code",
   "execution_count": 5,
   "metadata": {},
   "outputs": [
    {
     "data": {
      "text/plain": [
       "'mp-10412-2-XANES-K'"
      ]
     },
     "execution_count": 5,
     "metadata": {},
     "output_type": "execute_result"
    }
   ],
   "source": [
    "all_data_processed[4][2]"
   ]
  },
  {
   "cell_type": "code",
   "execution_count": 12,
   "metadata": {
    "collapsed": true
   },
   "outputs": [],
   "source": [
    "all_lens = []\n",
    "for l in all_data_processed:\n",
    "    all_lens.append(len(l[1]))"
   ]
  },
  {
   "cell_type": "code",
   "execution_count": 13,
   "metadata": {},
   "outputs": [
    {
     "name": "stdout",
     "output_type": "stream",
     "text": [
      "100 100\n"
     ]
    }
   ],
   "source": [
    "print(min(all_lens), max(all_lens))"
   ]
  },
  {
   "cell_type": "code",
   "execution_count": 14,
   "metadata": {
    "collapsed": true
   },
   "outputs": [],
   "source": [
    "np_data = np.array(all_data_processed)"
   ]
  },
  {
   "cell_type": "code",
   "execution_count": 15,
   "metadata": {},
   "outputs": [
    {
     "data": {
      "text/plain": [
       "array([list([81, 1, 3, 1.83642540632807]),\n",
       "       list([8, -2, 1, 0.4002021051031206]),\n",
       "       list([8, -2, 1, 0.4867821867988994]), ...,\n",
       "       list([13, 0, 5, 1.3903850073608175]),\n",
       "       list([73, 2, 3, 1.016849678798427]),\n",
       "       list([38, 2, 5, 1.253205140556687])], dtype=object)"
      ]
     },
     "execution_count": 15,
     "metadata": {},
     "output_type": "execute_result"
    }
   ],
   "source": [
    "np_data[:, 0] "
   ]
  },
  {
   "cell_type": "code",
   "execution_count": null,
   "metadata": {
    "collapsed": true
   },
   "outputs": [],
   "source": []
  },
  {
   "cell_type": "markdown",
   "metadata": {},
   "source": [
    "# Process data with snap site properties"
   ]
  },
  {
   "cell_type": "code",
   "execution_count": 1,
   "metadata": {
    "collapsed": true
   },
   "outputs": [],
   "source": [
    "import json\n",
    "from pymongo import MongoClient\n",
    "\n",
    "conn = MongoClient(\"localhost\", port=57003)\n",
    "db = conn[\"feff_km_share\"]\n",
    "db.authenticate(\"anon\", \"anon\")\n",
    "xas = db[\"xas\"]"
   ]
  },
  {
   "cell_type": "code",
   "execution_count": 2,
   "metadata": {
    "collapsed": true
   },
   "outputs": [],
   "source": [
    "data_file = '/home/km/Google_Drive/LBL/FEFF/predict/snap/snap_data_150000.json'\n",
    "with open(data_file, \"r\") as f:\n",
    "    all_data = json.load(f)"
   ]
  },
  {
   "cell_type": "code",
   "execution_count": 3,
   "metadata": {
    "collapsed": true
   },
   "outputs": [],
   "source": [
    "from pymatgen import Structure\n",
    "def get_Z(xas_id):\n",
    "    d = xas.find_one({\"xas_id\":xas_id})\n",
    "    structure = Structure.from_dict(d[\"structure\"])\n",
    "    return structure[d[\"absorbing_atom\"]].specie.number"
   ]
  },
  {
   "cell_type": "code",
   "execution_count": 4,
   "metadata": {},
   "outputs": [
    {
     "name": "stdout",
     "output_type": "stream",
     "text": [
      "(0,)\n"
     ]
    }
   ],
   "source": [
    "import numpy as np\n",
    "\n",
    "# [[site, spectrum], ...]\n",
    "# site -> [Z, bispectrum coeffs]\n",
    "# spectrum -> [e_min, e_max, mu/max(mu)]\n",
    "all_data_processed = []\n",
    "for k, v in all_data.items():\n",
    "    sf = list(v[\"site\"])\n",
    "    site_features = []\n",
    "    # if atomic number is missing\n",
    "    if len(sf) != 31:\n",
    "        site_features = [get_Z(k)]\n",
    "        \n",
    "    tmp = np.array(v[\"spectrum\"])\n",
    "    \n",
    "    # e_min, e_max, mu/ max mu\n",
    "    try:\n",
    "        mu = tmp[:,3]/max(tmp[:,3])\n",
    "    except:\n",
    "        print(tmp.shape)\n",
    "        continue\n",
    "        \n",
    "    mu_list = [min(tmp[:,0]), max(tmp[:,0])]\n",
    "    mu_list.extend(mu.tolist())\n",
    "    \n",
    "    site_features.extend(sf)\n",
    "    \n",
    "    all_data_processed.append([site_features, mu_list, k])"
   ]
  },
  {
   "cell_type": "code",
   "execution_count": 5,
   "metadata": {
    "collapsed": true
   },
   "outputs": [],
   "source": [
    "processed_data_file = '/home/km/Google_Drive/LBL/FEFF/predict/snap/snap_data_processed_150000.json'\n",
    "with open(processed_data_file, \"w\") as f:\n",
    "    json.dump(all_data_processed, f)"
   ]
  },
  {
   "cell_type": "code",
   "execution_count": 6,
   "metadata": {},
   "outputs": [
    {
     "data": {
      "text/plain": [
       "'mp-15885-5-XANES-K'"
      ]
     },
     "execution_count": 6,
     "metadata": {},
     "output_type": "execute_result"
    }
   ],
   "source": [
    "all_data_processed[4][2]"
   ]
  },
  {
   "cell_type": "code",
   "execution_count": 7,
   "metadata": {},
   "outputs": [
    {
     "data": {
      "text/plain": [
       "39"
      ]
     },
     "execution_count": 7,
     "metadata": {},
     "output_type": "execute_result"
    }
   ],
   "source": [
    "# atomic number\n",
    "all_data_processed[45][0][0]"
   ]
  },
  {
   "cell_type": "code",
   "execution_count": 8,
   "metadata": {},
   "outputs": [
    {
     "data": {
      "text/plain": [
       "[17051.719000000001, 17106.881000000001]"
      ]
     },
     "execution_count": 8,
     "metadata": {},
     "output_type": "execute_result"
    }
   ],
   "source": [
    "# e_min, e_max\n",
    "all_data_processed[45][1][:2]"
   ]
  },
  {
   "cell_type": "code",
   "execution_count": 9,
   "metadata": {
    "collapsed": true
   },
   "outputs": [],
   "source": [
    "all_lens = []\n",
    "for l in all_data_processed:\n",
    "    all_lens.append(len(l[1]))"
   ]
  },
  {
   "cell_type": "code",
   "execution_count": 10,
   "metadata": {},
   "outputs": [
    {
     "name": "stdout",
     "output_type": "stream",
     "text": [
      "102 102\n"
     ]
    }
   ],
   "source": [
    "print(min(all_lens), max(all_lens))"
   ]
  },
  {
   "cell_type": "code",
   "execution_count": null,
   "metadata": {
    "collapsed": true
   },
   "outputs": [],
   "source": []
  },
  {
   "cell_type": "code",
   "execution_count": null,
   "metadata": {
    "collapsed": true
   },
   "outputs": [],
   "source": []
  },
  {
   "cell_type": "code",
   "execution_count": null,
   "metadata": {
    "collapsed": true
   },
   "outputs": [],
   "source": [
    "# %load /home/km/Google_Drive/LBL/FEFF/scripts/eq_sites.py\n",
    "import numpy as np\n",
    "from pymatgen.symmetry.analyzer import SpacegroupAnalyzer\n",
    "\n",
    "\n",
    "class SymmSites:\n",
    "    def __init__(self, structure):\n",
    "        self.structure = structure\n",
    "        sa = SpacegroupAnalyzer(self.structure)\n",
    "        symm_data = sa.get_symmetry_dataset()\n",
    "        # equivalency mapping for the structure\n",
    "        # i'th site in the input structure equivalent to eq_atoms[i]'th site\n",
    "        self.eq_atoms = symm_data[\"equivalent_atoms\"]\n",
    "        \n",
    "    def get_unique_site_indices(self):\n",
    "        \"\"\"\n",
    "        returns unique site indices in the structure\n",
    "        \"\"\"\n",
    "        return np.unique(self.eq_atoms)\n",
    "\n",
    "    def get_equivalent_site_indices(self, i):\n",
    "        \"\"\"\n",
    "        returns site indices in the structure that are equivalent to the given site i\n",
    "        \"\"\"\n",
    "        return np.argwhere(self.eq_atoms == self.eq_atoms[i]).squeeze()\n",
    "\n",
    "    \n",
    "if __name__ == \"__main__\":\n",
    "    \n",
    "    from pymatgen.ext.matproj import MPRester\n",
    "    \n",
    "    a = MPRester()\n",
    "    structure = a.get_structure_by_material_id(\"mp-24972\") #TiO2: mp-390, fe2o3: mp-24972\n",
    "    symsite = SymmSites(structure)\n",
    "    print(symsite.get_unique_site_indices())\n",
    "    print(symsite.get_equivalent_site_indices(5))\n"
   ]
  },
  {
   "cell_type": "code",
   "execution_count": 89,
   "metadata": {},
   "outputs": [
    {
     "data": {
      "text/plain": [
       "Structure Summary\n",
       "Lattice\n",
       "    abc : 5.1375444305168338 5.4837876298260859 5.1375444008897855\n",
       " angles : 62.067550317265585 119.99999828294702 117.93245659283009\n",
       " volume : 105.4300472549721\n",
       "      A : -1.6529157999999999 -4.2413729900000003 2.3818033700000001\n",
       "      B : 1.62300387 4.2209269200000001 3.10186414\n",
       "      C : -2.8991580899999998 4.2413729900000003 0.0\n",
       "PeriodicSite: Fe (-2.3609, 1.4978, 1.0287) [0.3534, 0.0603, 0.6466]\n",
       "PeriodicSite: Fe (-2.0028, 4.8541, 1.7131) [0.1466, 0.4397, 0.8534]\n",
       "PeriodicSite: Fe (-0.5682, 2.7232, 4.4550) [0.6466, 0.9397, 0.3534]\n",
       "PeriodicSite: Fe (-0.9263, -0.6332, 3.7705) [0.8534, 0.5603, 0.1466]\n",
       "PeriodicSite: O (0.1483, 1.0450, 3.6442) [0.5533, 0.7500, 0.0533]\n",
       "PeriodicSite: O (-0.4911, 4.0001, 2.9218) [0.2500, 0.7500, 0.4467]\n",
       "PeriodicSite: O (-0.4070, 1.8898, 0.9023) [0.0532, 0.2500, 0.2500]\n",
       "PeriodicSite: O (-2.4379, 0.2207, 2.5618) [0.7500, 0.2500, 0.5532]\n",
       "PeriodicSite: O (-3.0775, 3.1759, 1.8396) [0.4468, 0.2500, 0.9468]\n",
       "PeriodicSite: O (-2.5220, 2.3313, 4.5813) [0.9467, 0.7500, 0.7500]"
      ]
     },
     "execution_count": 89,
     "metadata": {},
     "output_type": "execute_result"
    }
   ],
   "source": [
    "structure"
   ]
  },
  {
   "cell_type": "code",
   "execution_count": 90,
   "metadata": {},
   "outputs": [
    {
     "data": {
      "text/plain": [
       "array([0, 4], dtype=int32)"
      ]
     },
     "execution_count": 90,
     "metadata": {},
     "output_type": "execute_result"
    }
   ],
   "source": [
    "symsite = SymmSites(structure)\n",
    "symsite.get_unique_site_indices()"
   ]
  },
  {
   "cell_type": "code",
   "execution_count": 91,
   "metadata": {},
   "outputs": [
    {
     "data": {
      "text/plain": [
       "array([4, 5, 6, 7, 8, 9])"
      ]
     },
     "execution_count": 91,
     "metadata": {},
     "output_type": "execute_result"
    }
   ],
   "source": [
    "symsite.get_equivalent_site_indices(5)"
   ]
  },
  {
   "cell_type": "code",
   "execution_count": null,
   "metadata": {
    "collapsed": true
   },
   "outputs": [],
   "source": []
  },
  {
   "cell_type": "code",
   "execution_count": null,
   "metadata": {
    "collapsed": true
   },
   "outputs": [],
   "source": []
  },
  {
   "cell_type": "markdown",
   "metadata": {},
   "source": [
    "# Chemenv"
   ]
  },
  {
   "cell_type": "code",
   "execution_count": null,
   "metadata": {
    "collapsed": true
   },
   "outputs": [],
   "source": [
    "from pymatgen.analysis.chemenv.utils.chemenv_config import ChemEnvConfig\n",
    "from pymatgen.analysis.chemenv.coordination_environments.chemenv_strategies import SimplestChemenvStrategy\n",
    "from pymatgen.analysis.chemenv.coordination_environments.chemenv_strategies import SimpleAbundanceChemenvStrategy\n",
    "from pymatgen.analysis.chemenv.coordination_environments.chemenv_strategies import TargettedPenaltiedAbundanceChemenvStrategy\n",
    "from pymatgen.analysis.chemenv.utils.chemenv_errors import NeighborsNotComputedChemenvError\n",
    "from pymatgen.analysis.chemenv.coordination_environments.coordination_geometries import UNCLEAR_ENVIRONMENT_SYMBOL\n",
    "from pymatgen.analysis.chemenv.coordination_environments.coordination_geometry_finder import LocalGeometryFinder\n",
    "from pymatgen.analysis.chemenv.coordination_environments.coordination_geometries import AllCoordinationGeometries"
   ]
  },
  {
   "cell_type": "code",
   "execution_count": 2,
   "metadata": {
    "collapsed": true
   },
   "outputs": [],
   "source": [
    "#with open(\"/home/km/.chemenv/config.json\", 'r') as f:\n",
    "#    config_dict = json.load(f)   \n",
    "config_dict = {'materials_project_configuration': None,\n",
    "               'package_options': {\n",
    "                   'default_max_distance_factor': 1.5,\n",
    "                   'default_strategy': {\n",
    "                       'strategy': 'SimplestChemenvStrategy',\n",
    "                       'strategy_options': {'additional_condition': 1,\n",
    "                                            'angle_cutoff': 0.3, \n",
    "                                            'continuous_symmetry_measure_cutoff': 10.0,\n",
    "                                            'distance_cutoff': 1.4\n",
    "                                           }\n",
    "                   }\n",
    "               }\n",
    "              }"
   ]
  },
  {
   "cell_type": "code",
   "execution_count": 3,
   "metadata": {
    "collapsed": true
   },
   "outputs": [],
   "source": [
    "cec = ChemEnvConfig(materials_project_configuration=config_dict['materials_project_configuration'], \n",
    "                    package_options=config_dict['package_options'])"
   ]
  },
  {
   "cell_type": "code",
   "execution_count": 39,
   "metadata": {
    "collapsed": true
   },
   "outputs": [],
   "source": [
    "strategies_class_lookup = OrderedDict()\n",
    "strategies_class_lookup['SimplestChemenvStrategy'] = SimplestChemenvStrategy\n",
    "strategies_class_lookup['SimpleAbundanceChemenvStrategy'] = SimpleAbundanceChemenvStrategy\n",
    "strategies_class_lookup['TargettedPenaltiedAbundanceChemenvStrategy'] = TargettedPenaltiedAbundanceChemenvStrategy"
   ]
  },
  {
   "cell_type": "code",
   "execution_count": 40,
   "metadata": {
    "collapsed": true
   },
   "outputs": [],
   "source": [
    "allcg = AllCoordinationGeometries()\n",
    "strategy_class = strategies_class_lookup[cec.package_options['default_strategy']['strategy']]\n",
    "default_strategy = strategy_class()\n",
    "default_strategy.setup_options(cec.package_options['default_strategy']['strategy_options'])\n",
    "max_dist_factor = cec.package_options['default_max_distance_factor']"
   ]
  },
  {
   "cell_type": "code",
   "execution_count": 41,
   "metadata": {
    "collapsed": true
   },
   "outputs": [],
   "source": [
    "# Compute environment\n",
    "lgf = LocalGeometryFinder()\n",
    "lgf.setup_parameters()\n",
    "lgf.setup_structure(structure)\n",
    "se = lgf.compute_structure_environments(maximum_distance_factor=max_dist_factor)"
   ]
  },
  {
   "cell_type": "code",
   "execution_count": 42,
   "metadata": {},
   "outputs": [
    {
     "name": "stdout",
     "output_type": "stream",
     "text": [
      "{'@module': 'pymatgen.analysis.chemenv.coordination_environments.chemenv_strategies', '@class': 'SimplestChemenvStrategy', 'distance_cutoff': 1.4, 'angle_cutoff': 0.3, 'additional_condition': 1, 'symmetry_measure_type': 'csm_wcs_ctwcc', 'continuous_symmetry_measure_cutoff': 10.0}\n"
     ]
    }
   ],
   "source": [
    "strategy = default_strategy\n",
    "print(strategy.as_dict())"
   ]
  },
  {
   "cell_type": "code",
   "execution_count": 43,
   "metadata": {
    "collapsed": true
   },
   "outputs": [],
   "source": [
    "strategy.set_structure_environments(se)"
   ]
  },
  {
   "cell_type": "code",
   "execution_count": 44,
   "metadata": {},
   "outputs": [
    {
     "data": {
      "text/plain": [
       "True"
      ]
     },
     "execution_count": 44,
     "metadata": {},
     "output_type": "execute_result"
    }
   ],
   "source": [
    "strategy.uniquely_determines_coordination_environments"
   ]
  },
  {
   "cell_type": "code",
   "execution_count": 45,
   "metadata": {},
   "outputs": [
    {
     "data": {
      "text/plain": [
       "[[PeriodicSite: Ti (0.0000, 0.0000, 4.8622) [0.0000, 0.0000, 0.5000]],\n",
       " [PeriodicSite: Ti (0.0000, 1.9031, 7.2933) [0.0000, 0.5000, 0.7500]],\n",
       " [PeriodicSite: Ti (1.9031, 1.9031, 0.0000) [0.5000, 0.5000, 0.0000]],\n",
       " [PeriodicSite: Ti (1.9031, 0.0000, 2.4311) [0.5000, 0.0000, 0.2500]],\n",
       " [PeriodicSite: O (1.9031, 0.0000, 4.4383) [0.5000, 0.0000, 0.4564]],\n",
       " [PeriodicSite: O (0.0000, 0.0000, 6.8694) [0.0000, 0.0000, 0.7064]],\n",
       " [PeriodicSite: O (0.0000, 1.9031, 5.2860) [0.0000, 0.5000, 0.5436]],\n",
       " [PeriodicSite: O (1.9031, 1.9031, 7.7171) [0.5000, 0.5000, 0.7936]],\n",
       " [PeriodicSite: O (0.0000, 1.9031, 9.3005) [0.0000, 0.5000, 0.9564]],\n",
       " [PeriodicSite: O (1.9031, 1.9031, 2.0072) [0.5000, 0.5000, 0.2064]],\n",
       " [PeriodicSite: O (1.9031, 0.0000, 0.4239) [0.5000, 0.0000, 0.0436]],\n",
       " [PeriodicSite: O (0.0000, 0.0000, 2.8549) [0.0000, 0.0000, 0.2936]]]"
      ]
     },
     "execution_count": 45,
     "metadata": {},
     "output_type": "execute_result"
    }
   ],
   "source": [
    "se.equivalent_sites"
   ]
  },
  {
   "cell_type": "code",
   "execution_count": 50,
   "metadata": {
    "collapsed": true
   },
   "outputs": [],
   "source": [
    "ces = strategy.get_site_coordination_environments(se.equivalent_sites[4][0])"
   ]
  },
  {
   "cell_type": "code",
   "execution_count": 51,
   "metadata": {},
   "outputs": [
    {
     "data": {
      "text/plain": [
       "('TS:3',\n",
       " {'algo': 'EXPLICIT_PERMUTATIONS',\n",
       "  'detailed_voronoi_index': {'cn': 3, 'index': 0},\n",
       "  'local2perfect_map': {0: 2, 1: 0, 2: 1},\n",
       "  'other_symmetry_measures': {'csm_wcs_csc': 3.1512184058025223,\n",
       "   'csm_wcs_ctwcc': 1.7825613813015815,\n",
       "   'csm_wcs_ctwocc': 1.9516001646735213,\n",
       "   'csm_wocs_csc': 3.1512184058025223,\n",
       "   'csm_wocs_ctwcc': 1.3847431583242751,\n",
       "   'csm_wocs_ctwocc': 1.246514723566057,\n",
       "   'rotation_matrix_wcs_csc': array([[-1., -0., -0.],\n",
       "          [ 0.,  1.,  0.],\n",
       "          [-0., -0., -1.]]),\n",
       "   'rotation_matrix_wcs_ctwcc': array([[-1., -0., -0.],\n",
       "          [ 0.,  1.,  0.],\n",
       "          [-0., -0., -1.]]),\n",
       "   'rotation_matrix_wcs_ctwocc': array([[ -1.00000000e+00,  -0.00000000e+00,  -3.33058448e-17],\n",
       "          [  0.00000000e+00,   1.00000000e+00,   0.00000000e+00],\n",
       "          [  3.33058448e-17,  -0.00000000e+00,  -1.00000000e+00]]),\n",
       "   'rotation_matrix_wocs_csc': array([[-1., -0., -0.],\n",
       "          [ 0.,  1.,  0.],\n",
       "          [-0., -0., -1.]]),\n",
       "   'rotation_matrix_wocs_ctwcc': array([[-1., -0., -0.],\n",
       "          [ 0.,  1.,  0.],\n",
       "          [-0., -0., -1.]]),\n",
       "   'rotation_matrix_wocs_ctwocc': array([[ -1.00000000e+00,  -0.00000000e+00,  -1.36386170e-17],\n",
       "          [  0.00000000e+00,   1.00000000e+00,   0.00000000e+00],\n",
       "          [  1.36386170e-17,  -0.00000000e+00,  -1.00000000e+00]]),\n",
       "   'scaling_factor_wcs_csc': 2.0008406861268262,\n",
       "   'scaling_factor_wcs_ctwcc': 2.0449942082709991,\n",
       "   'scaling_factor_wcs_ctwocc': 2.0398607238980468,\n",
       "   'scaling_factor_wocs_csc': 2.0008406861268262,\n",
       "   'scaling_factor_wocs_ctwcc': 2.0567663571267509,\n",
       "   'scaling_factor_wocs_ctwocc': 2.0607602759376036,\n",
       "   'translation_vector_wcs_csc': array([ 1.90306717,  0.        ,  4.43832399]),\n",
       "   'translation_vector_wcs_ctwcc': array([ 1.90306717,  0.        ,  4.14844207]),\n",
       "   'translation_vector_wcs_ctwocc': array([ 1.90306717,  0.        ,  4.05181477]),\n",
       "   'translation_vector_wocs_csc': array([ 1.90306717,  0.        ,  4.43832399]),\n",
       "   'translation_vector_wocs_ctwcc': array([ 1.90306717,  0.        ,  4.14844207]),\n",
       "   'translation_vector_wocs_ctwocc': array([ 1.90306717,  0.        ,  4.05181477])},\n",
       "  'perfect2local_map': {0: 1, 1: 2, 2: 0},\n",
       "  'permutation': [1, 2, 0],\n",
       "  'rotation_matrix': array([[-1., -0., -0.],\n",
       "         [ 0.,  1.,  0.],\n",
       "         [-0., -0., -1.]]),\n",
       "  'scaling_factor': 2.0449942082709991,\n",
       "  'symmetry_measure': 1.7825613813015815})"
      ]
     },
     "execution_count": 51,
     "metadata": {},
     "output_type": "execute_result"
    }
   ],
   "source": [
    "ces[0]"
   ]
  },
  {
   "cell_type": "code",
   "execution_count": 15,
   "metadata": {
    "collapsed": true
   },
   "outputs": [],
   "source": [
    "thecg = allcg.get_geometry_from_mp_symbol(ces[0][0])"
   ]
  },
  {
   "cell_type": "code",
   "execution_count": 16,
   "metadata": {},
   "outputs": [
    {
     "data": {
      "text/plain": [
       "6"
      ]
     },
     "execution_count": 16,
     "metadata": {},
     "output_type": "execute_result"
    }
   ],
   "source": [
    "thecg.coordination_number"
   ]
  },
  {
   "cell_type": "code",
   "execution_count": null,
   "metadata": {
    "collapsed": true
   },
   "outputs": [],
   "source": [
    "# regression net: l2 loss\n",
    "# get xas\n",
    "# get corresponding structure\n",
    "# compute local env using chemenv\n",
    "# get the coord number of the absorbing site\n",
    "# findout how to encode absorbing atom --> use atomic number and valency(computed by pymatgen?)\n",
    "# append coordination number, avg bond lengths and the bond length deviation"
   ]
  },
  {
   "cell_type": "code",
   "execution_count": null,
   "metadata": {
    "collapsed": true
   },
   "outputs": [],
   "source": []
  },
  {
   "cell_type": "code",
   "execution_count": null,
   "metadata": {
    "collapsed": true
   },
   "outputs": [],
   "source": []
  },
  {
   "cell_type": "code",
   "execution_count": 72,
   "metadata": {},
   "outputs": [
    {
     "name": "stdout",
     "output_type": "stream",
     "text": [
      "Environment for site #0 Ti (Ti1) : Octahedron (O:6)\n",
      "  <Continuous symmetry measures>  O:6 : 3.15       T:6 : 12.24       PP:6 : 22.93       \n",
      "Environment for site #1 Ti (Ti1) : Octahedron (O:6)\n",
      "  <Continuous symmetry measures>  O:6 : 3.15       T:6 : 12.24       PP:6 : 22.93       \n",
      "Environment for site #2 Ti (Ti1) : Octahedron (O:6)\n",
      "  <Continuous symmetry measures>  O:6 : 3.15       T:6 : 12.24       PP:6 : 22.93       \n",
      "Environment for site #3 Ti (Ti1) : Octahedron (O:6)\n",
      "  <Continuous symmetry measures>  O:6 : 3.15       T:6 : 12.24       PP:6 : 22.93       \n",
      "Environment for site #4 O2 (O1) : T-shaped (TS:3)\n",
      "  <Continuous symmetry measures>  TS:3 : 1.78       TL:3 : 3.20       TY:3 : 6.06       \n",
      "Environment for site #5 O2 (O1) : T-shaped (TS:3)\n",
      "  <Continuous symmetry measures>  TS:3 : 1.78       TL:3 : 3.20       TY:3 : 6.06       \n",
      "Environment for site #6 O2 (O1) : T-shaped (TS:3)\n",
      "  <Continuous symmetry measures>  TS:3 : 1.78       TL:3 : 3.20       TY:3 : 6.06       \n",
      "Environment for site #7 O2 (O1) : T-shaped (TS:3)\n",
      "  <Continuous symmetry measures>  TS:3 : 1.78       TL:3 : 3.20       TY:3 : 6.06       \n",
      "Environment for site #8 O2 (O1) : T-shaped (TS:3)\n",
      "  <Continuous symmetry measures>  TS:3 : 1.78       TL:3 : 3.20       TY:3 : 6.06       \n",
      "Environment for site #9 O2 (O1) : T-shaped (TS:3)\n",
      "  <Continuous symmetry measures>  TS:3 : 1.78       TL:3 : 3.20       TY:3 : 6.06       \n",
      "Environment for site #10 O2 (O1) : T-shaped (TS:3)\n",
      "  <Continuous symmetry measures>  TS:3 : 1.78       TL:3 : 3.20       TY:3 : 6.06       \n",
      "Environment for site #11 O2 (O1) : T-shaped (TS:3)\n",
      "  <Continuous symmetry measures>  TS:3 : 1.78       TL:3 : 3.20       TY:3 : 6.06       \n"
     ]
    }
   ],
   "source": [
    "# everything together\n",
    "\n",
    "for eqslist in se.equivalent_sites:\n",
    "    site = eqslist[0]\n",
    "    isite = se.structure.index(site)\n",
    "    try:\n",
    "        if strategy.uniquely_determines_coordination_environments:\n",
    "            ces = strategy.get_site_coordination_environments(site)\n",
    "        else:\n",
    "            ces = strategy.get_site_coordination_environments_fractions(site)\n",
    "    except NeighborsNotComputedChemenvError:\n",
    "        print(\"error\")\n",
    "        continue\n",
    "    if ces is None:\n",
    "        continue\n",
    "    if len(ces) == 0:\n",
    "        continue\n",
    "    comp = site.species_and_occu\n",
    "    #ce = strategy.get_site_coordination_environment(site)\n",
    "    if strategy.uniquely_determines_coordination_environments:\n",
    "        ce = ces[0]\n",
    "        if ce is None:\n",
    "            continue\n",
    "        thecg = allcg.get_geometry_from_mp_symbol(ce[0])\n",
    "        mystring = 'Environment for site #{} {} ({}) : {} ({})\\n'.format(str(isite),\n",
    "                                                                         comp.get_reduced_formula_and_factor()[0],\n",
    "                                                                         str(comp),\n",
    "                                                                         thecg.name,\n",
    "                                                                         ce[0])\n",
    "    else:\n",
    "        mystring = 'Environments for site #{} {} ({}) : \\n'.format(str(isite),\n",
    "                                                                   comp.get_reduced_formula_and_factor()[0],\n",
    "                                                                   str(comp))\n",
    "        for ce in ces:\n",
    "            cg = allcg.get_geometry_from_mp_symbol(ce[0])\n",
    "            csm = ce[1]['other_symmetry_measures']['csm_wcs_ctwcc']\n",
    "            mystring += ' - {} ({}): {:.2f} % (csm : {:2f})\\n'.format(cg.name, cg.mp_symbol,\n",
    "                                                                      100.0*ce[2],\n",
    "                                                                      csm)\n",
    "    if strategy.uniquely_determines_coordination_environments:\n",
    "                    if thecg.mp_symbol != UNCLEAR_ENVIRONMENT_SYMBOL:\n",
    "                        mystring += '  <Continuous symmetry measures>  '\n",
    "                        mingeoms = se.ce_list[isite][thecg.coordination_number][0].minimum_geometries()\n",
    "                        for mingeom in mingeoms:\n",
    "                            csm = mingeom[1]['other_symmetry_measures']['csm_wcs_ctwcc']\n",
    "                            mystring += '{} : {:.2f}       '.format(mingeom[0], csm)\n",
    "    print(mystring)       "
   ]
  },
  {
   "cell_type": "code",
   "execution_count": null,
   "metadata": {
    "collapsed": true
   },
   "outputs": [],
   "source": [
    "#se.plot_environments(isite, additional_condition=se.AC.ONLY_ACB)"
   ]
  },
  {
   "cell_type": "code",
   "execution_count": null,
   "metadata": {
    "collapsed": true
   },
   "outputs": [],
   "source": []
  },
  {
   "cell_type": "code",
   "execution_count": null,
   "metadata": {
    "collapsed": true
   },
   "outputs": [],
   "source": []
  },
  {
   "cell_type": "code",
   "execution_count": 2,
   "metadata": {
    "collapsed": true
   },
   "outputs": [],
   "source": []
  },
  {
   "cell_type": "code",
   "execution_count": 3,
   "metadata": {},
   "outputs": [
    {
     "data": {
      "text/plain": [
       "Structure Summary\n",
       "Lattice\n",
       "    abc : 3.8401979336999998 3.8401989943442438 3.8401979337177736\n",
       " angles : 119.99999086398421 90.0 60.000009137322209\n",
       " volume : 40.044794644251589\n",
       "      A : 3.8401979336999998 0.0 0.0\n",
       "      B : 1.9200989667999999 3.3257101909000002 0.0\n",
       "      C : 0.0 -2.2171384942999999 3.1355090603\n",
       "PeriodicSite: Si (0.0000, 0.0000, 0.0000) [0.0000, 0.0000, 0.0000]\n",
       "PeriodicSite: Si (3.8402, 0.0000, 2.3516) [0.7500, 0.5000, 0.7500]"
      ]
     },
     "execution_count": 3,
     "metadata": {},
     "output_type": "execute_result"
    }
   ],
   "source": [
    "struct_si"
   ]
  },
  {
   "cell_type": "code",
   "execution_count": 4,
   "metadata": {
    "collapsed": true
   },
   "outputs": [],
   "source": []
  },
  {
   "cell_type": "code",
   "execution_count": 5,
   "metadata": {},
   "outputs": [
    {
     "name": "stdout",
     "output_type": "stream",
     "text": [
      "Unable to load configuration from file \"/home/km/.chemenv/config.json\" ...\n",
      " ... loading default configuration\n",
      "\n",
      "=> Configuration of the ChemEnv package <=\n",
      "Current configuration :\n",
      " - No access to materials project\n",
      " - Package options :\n",
      "     default_max_distance_factor   :   1.5\n",
      "     default_strategy   :   {'strategy': 'SimplestChemenvStrategy', 'strategy_options': {'continuous_symmetry_measure_cutoff': 10.0, 'additional_condition': 1, 'angle_cutoff': 0.3, 'distance_cutoff': 1.4}}\n",
      "\n",
      "Choose in the following :\n",
      " <1> + <ENTER> : setup of the access to the materials project database\n",
      " <2> + <ENTER> : configuration of the package options (strategy, ...)\n",
      " <q> + <ENTER> : quit without saving configuration\n"
     ]
    },
    {
     "ename": "KeyboardInterrupt",
     "evalue": "",
     "output_type": "error",
     "traceback": [
      "\u001b[0;31m---------------------------------------------------------------------------\u001b[0m",
      "\u001b[0;31mKeyboardInterrupt\u001b[0m                         Traceback (most recent call last)",
      "\u001b[0;32m~/Software/vnv35/lib/python3.5/site-packages/ipykernel/kernelbase.py\u001b[0m in \u001b[0;36m_input_request\u001b[0;34m(self, prompt, ident, parent, password)\u001b[0m\n\u001b[1;32m    729\u001b[0m             \u001b[0;32mtry\u001b[0m\u001b[0;34m:\u001b[0m\u001b[0;34m\u001b[0m\u001b[0m\n\u001b[0;32m--> 730\u001b[0;31m                 \u001b[0mident\u001b[0m\u001b[0;34m,\u001b[0m \u001b[0mreply\u001b[0m \u001b[0;34m=\u001b[0m \u001b[0mself\u001b[0m\u001b[0;34m.\u001b[0m\u001b[0msession\u001b[0m\u001b[0;34m.\u001b[0m\u001b[0mrecv\u001b[0m\u001b[0;34m(\u001b[0m\u001b[0mself\u001b[0m\u001b[0;34m.\u001b[0m\u001b[0mstdin_socket\u001b[0m\u001b[0;34m,\u001b[0m \u001b[0;36m0\u001b[0m\u001b[0;34m)\u001b[0m\u001b[0;34m\u001b[0m\u001b[0m\n\u001b[0m\u001b[1;32m    731\u001b[0m             \u001b[0;32mexcept\u001b[0m \u001b[0mException\u001b[0m\u001b[0;34m:\u001b[0m\u001b[0;34m\u001b[0m\u001b[0m\n",
      "\u001b[0;32m~/Software/vnv35/lib/python3.5/site-packages/jupyter_client/session.py\u001b[0m in \u001b[0;36mrecv\u001b[0;34m(self, socket, mode, content, copy)\u001b[0m\n\u001b[1;32m    795\u001b[0m         \u001b[0;32mtry\u001b[0m\u001b[0;34m:\u001b[0m\u001b[0;34m\u001b[0m\u001b[0m\n\u001b[0;32m--> 796\u001b[0;31m             \u001b[0mmsg_list\u001b[0m \u001b[0;34m=\u001b[0m \u001b[0msocket\u001b[0m\u001b[0;34m.\u001b[0m\u001b[0mrecv_multipart\u001b[0m\u001b[0;34m(\u001b[0m\u001b[0mmode\u001b[0m\u001b[0;34m,\u001b[0m \u001b[0mcopy\u001b[0m\u001b[0;34m=\u001b[0m\u001b[0mcopy\u001b[0m\u001b[0;34m)\u001b[0m\u001b[0;34m\u001b[0m\u001b[0m\n\u001b[0m\u001b[1;32m    797\u001b[0m         \u001b[0;32mexcept\u001b[0m \u001b[0mzmq\u001b[0m\u001b[0;34m.\u001b[0m\u001b[0mZMQError\u001b[0m \u001b[0;32mas\u001b[0m \u001b[0me\u001b[0m\u001b[0;34m:\u001b[0m\u001b[0;34m\u001b[0m\u001b[0m\n",
      "\u001b[0;32m~/Software/vnv35/lib/python3.5/site-packages/zmq/sugar/socket.py\u001b[0m in \u001b[0;36mrecv_multipart\u001b[0;34m(self, flags, copy, track)\u001b[0m\n\u001b[1;32m    394\u001b[0m         \"\"\"\n\u001b[0;32m--> 395\u001b[0;31m         \u001b[0mparts\u001b[0m \u001b[0;34m=\u001b[0m \u001b[0;34m[\u001b[0m\u001b[0mself\u001b[0m\u001b[0;34m.\u001b[0m\u001b[0mrecv\u001b[0m\u001b[0;34m(\u001b[0m\u001b[0mflags\u001b[0m\u001b[0;34m,\u001b[0m \u001b[0mcopy\u001b[0m\u001b[0;34m=\u001b[0m\u001b[0mcopy\u001b[0m\u001b[0;34m,\u001b[0m \u001b[0mtrack\u001b[0m\u001b[0;34m=\u001b[0m\u001b[0mtrack\u001b[0m\u001b[0;34m)\u001b[0m\u001b[0;34m]\u001b[0m\u001b[0;34m\u001b[0m\u001b[0m\n\u001b[0m\u001b[1;32m    396\u001b[0m         \u001b[0;31m# have first part already, only loop while more to receive\u001b[0m\u001b[0;34m\u001b[0m\u001b[0;34m\u001b[0m\u001b[0m\n",
      "\u001b[0;32mzmq/backend/cython/socket.pyx\u001b[0m in \u001b[0;36mzmq.backend.cython.socket.Socket.recv (zmq/backend/cython/socket.c:7683)\u001b[0;34m()\u001b[0m\n",
      "\u001b[0;32mzmq/backend/cython/socket.pyx\u001b[0m in \u001b[0;36mzmq.backend.cython.socket.Socket.recv (zmq/backend/cython/socket.c:7460)\u001b[0;34m()\u001b[0m\n",
      "\u001b[0;32mzmq/backend/cython/socket.pyx\u001b[0m in \u001b[0;36mzmq.backend.cython.socket._recv_copy (zmq/backend/cython/socket.c:2344)\u001b[0;34m()\u001b[0m\n",
      "\u001b[0;32m~/Software/vnv35/lib/python3.5/site-packages/zmq/backend/cython/checkrc.pxd\u001b[0m in \u001b[0;36mzmq.backend.cython.checkrc._check_rc (zmq/backend/cython/socket.c:9621)\u001b[0;34m()\u001b[0m\n",
      "\u001b[0;31mKeyboardInterrupt\u001b[0m: ",
      "\nDuring handling of the above exception, another exception occurred:\n",
      "\u001b[0;31mKeyboardInterrupt\u001b[0m                         Traceback (most recent call last)",
      "\u001b[0;32m<ipython-input-5-b372a2b0091a>\u001b[0m in \u001b[0;36m<module>\u001b[0;34m()\u001b[0m\n\u001b[1;32m      1\u001b[0m \u001b[0mchemenv_config\u001b[0m \u001b[0;34m=\u001b[0m \u001b[0mChemEnvConfig\u001b[0m\u001b[0;34m.\u001b[0m\u001b[0mauto_load\u001b[0m\u001b[0;34m(\u001b[0m\u001b[0;34m)\u001b[0m\u001b[0;34m\u001b[0m\u001b[0m\n\u001b[0;32m----> 2\u001b[0;31m \u001b[0mchemenv_config\u001b[0m\u001b[0;34m.\u001b[0m\u001b[0msetup\u001b[0m\u001b[0;34m(\u001b[0m\u001b[0;34m)\u001b[0m\u001b[0;34m\u001b[0m\u001b[0m\n\u001b[0m",
      "\u001b[0;32m~/Software/matproj/pymatgen/pymatgen/analysis/chemenv/utils/chemenv_config.py\u001b[0m in \u001b[0;36msetup\u001b[0;34m(self)\u001b[0m\n\u001b[1;32m     61\u001b[0m             \u001b[0mprint\u001b[0m\u001b[0;34m(\u001b[0m\u001b[0;34m' <2> + <ENTER> : configuration of the package options (strategy, ...)'\u001b[0m\u001b[0;34m)\u001b[0m\u001b[0;34m\u001b[0m\u001b[0m\n\u001b[1;32m     62\u001b[0m             \u001b[0mprint\u001b[0m\u001b[0;34m(\u001b[0m\u001b[0;34m' <q> + <ENTER> : quit without saving configuration'\u001b[0m\u001b[0;34m)\u001b[0m\u001b[0;34m\u001b[0m\u001b[0m\n\u001b[0;32m---> 63\u001b[0;31m             \u001b[0mtest\u001b[0m \u001b[0;34m=\u001b[0m \u001b[0minput\u001b[0m\u001b[0;34m(\u001b[0m\u001b[0;34m' <S> + <ENTER> : save configuration and quit\\n ... '\u001b[0m\u001b[0;34m)\u001b[0m\u001b[0;34m\u001b[0m\u001b[0m\n\u001b[0m\u001b[1;32m     64\u001b[0m             \u001b[0;32mif\u001b[0m \u001b[0mtest\u001b[0m \u001b[0;34m==\u001b[0m \u001b[0;34m'1'\u001b[0m\u001b[0;34m:\u001b[0m\u001b[0;34m\u001b[0m\u001b[0m\n\u001b[1;32m     65\u001b[0m                 \u001b[0mself\u001b[0m\u001b[0;34m.\u001b[0m\u001b[0msetup_materials_project_configuration\u001b[0m\u001b[0;34m(\u001b[0m\u001b[0;34m)\u001b[0m\u001b[0;34m\u001b[0m\u001b[0m\n",
      "\u001b[0;32m~/Software/vnv35/lib/python3.5/site-packages/ipykernel/kernelbase.py\u001b[0m in \u001b[0;36mraw_input\u001b[0;34m(self, prompt)\u001b[0m\n\u001b[1;32m    703\u001b[0m             \u001b[0mself\u001b[0m\u001b[0;34m.\u001b[0m\u001b[0m_parent_ident\u001b[0m\u001b[0;34m,\u001b[0m\u001b[0;34m\u001b[0m\u001b[0m\n\u001b[1;32m    704\u001b[0m             \u001b[0mself\u001b[0m\u001b[0;34m.\u001b[0m\u001b[0m_parent_header\u001b[0m\u001b[0;34m,\u001b[0m\u001b[0;34m\u001b[0m\u001b[0m\n\u001b[0;32m--> 705\u001b[0;31m             \u001b[0mpassword\u001b[0m\u001b[0;34m=\u001b[0m\u001b[0;32mFalse\u001b[0m\u001b[0;34m,\u001b[0m\u001b[0;34m\u001b[0m\u001b[0m\n\u001b[0m\u001b[1;32m    706\u001b[0m         )\n\u001b[1;32m    707\u001b[0m \u001b[0;34m\u001b[0m\u001b[0m\n",
      "\u001b[0;32m~/Software/vnv35/lib/python3.5/site-packages/ipykernel/kernelbase.py\u001b[0m in \u001b[0;36m_input_request\u001b[0;34m(self, prompt, ident, parent, password)\u001b[0m\n\u001b[1;32m    733\u001b[0m             \u001b[0;32mexcept\u001b[0m \u001b[0mKeyboardInterrupt\u001b[0m\u001b[0;34m:\u001b[0m\u001b[0;34m\u001b[0m\u001b[0m\n\u001b[1;32m    734\u001b[0m                 \u001b[0;31m# re-raise KeyboardInterrupt, to truncate traceback\u001b[0m\u001b[0;34m\u001b[0m\u001b[0;34m\u001b[0m\u001b[0m\n\u001b[0;32m--> 735\u001b[0;31m                 \u001b[0;32mraise\u001b[0m \u001b[0mKeyboardInterrupt\u001b[0m\u001b[0;34m\u001b[0m\u001b[0m\n\u001b[0m\u001b[1;32m    736\u001b[0m             \u001b[0;32melse\u001b[0m\u001b[0;34m:\u001b[0m\u001b[0;34m\u001b[0m\u001b[0m\n\u001b[1;32m    737\u001b[0m                 \u001b[0;32mbreak\u001b[0m\u001b[0;34m\u001b[0m\u001b[0m\n",
      "\u001b[0;31mKeyboardInterrupt\u001b[0m: "
     ]
    }
   ],
   "source": [
    "chemenv_config = ChemEnvConfig.auto_load()\n",
    "chemenv_config.setup()"
   ]
  },
  {
   "cell_type": "code",
   "execution_count": null,
   "metadata": {
    "collapsed": true
   },
   "outputs": [],
   "source": []
  }
 ],
 "metadata": {
  "kernelspec": {
   "display_name": "Python 3",
   "language": "python",
   "name": "python3"
  },
  "language_info": {
   "codemirror_mode": {
    "name": "ipython",
    "version": 3
   },
   "file_extension": ".py",
   "mimetype": "text/x-python",
   "name": "python",
   "nbconvert_exporter": "python",
   "pygments_lexer": "ipython3",
   "version": "3.6.2"
  }
 },
 "nbformat": 4,
 "nbformat_minor": 2
}
